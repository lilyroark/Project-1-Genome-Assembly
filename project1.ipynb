{
 "cells": [
  {
   "cell_type": "markdown",
   "id": "7da87395",
   "metadata": {},
   "source": [
    "# Project 1: Assembling Genomes"
   ]
  },
  {
   "cell_type": "markdown",
   "id": "a9645da6",
   "metadata": {},
   "source": [
    "\n",
    "   <div class=\"alert alert-block alert-danger\">\n",
    "    <center>Due: <b>Tuesday, 8 February, 4:59pm</b>.</center> \n",
    "   </div>\n",
    "   \n",
    "   <div class=\"alert alert-block alert-warning\">\n",
    "   <center>\n",
    "       <b>Collaboration and Resource Policy</b>\n",
    "    </center>\n",
    "    For this assignment, you are encouraged to work with one other person. Your team must satisfy the constraints mentioned in <a href=\"https://www.dropbox.com/s/g6z2xncwc4jsplp/csbio-class2-inked.pdf?dl=0\">Class 2</a>.\n",
    "    \n",
    "   1. You went to different high schools.\n",
    "   2. You and your partner have different answers to <em>at least one</em> of these questions:\n",
    "       - What country were you born in?\n",
    "       - Have you taken any biology courses at UVA?\n",
    "       - Have you taken cs3102?\n",
    "       - Have you taken cs4102?\n",
    "    \n",
    "We expect most students will have the best learning experience on this assignment by working with a partner, but if you prefer to work alone it is okay to do this assignment on your own.\n",
    "    \n",
    "You are permitted (actually _encouraged_) to discuss these problems with anyone you want, including other students in the class. If you do discuss the specific questions in the assignment with anyone other than your assignment partner and the course staff, though, you should list them in the _External resources used_ section below.\n",
    "    \n",
    "You are welcome to use any resources you want for this assignment, other than ones that would defeat the purpose of the assignment. This means you should not look at answers or code from any other students in the class (other than your collaboration with your partner), and if you find code that implements the problem you are being asked to do for the assignment, you should not use that code. You should document all external resource you use that are not part of the course materials in the _External resources used_ section below."
   ]
  },
  {
   "cell_type": "markdown",
   "id": "14179769",
   "metadata": {},
   "source": [
    "**Team submitting this assignment:**  \n",
    "<div class=\"alert alert-success\">\n",
    "    <b><em>Neil Phan (nnp3axx)</em></b>,\n",
    "    <b><em>Lily Roark (lar6jk)</em></b>\n",
    "</div>\n",
    "\n",
    "**External resources used:** \n",
    "<div class=\"alert alert-success\">\n",
    "<em>It is not necessary to list the course materials, but if you used any other resources, including discussing problems with students not on your team, list them here.</em>\n",
    "    \n",
    "   How to convert ASCII into an int: https://stackoverflow.com/questions/3673428/convert-int-to-ascii-and-back-in-python\n",
    "</div>"
   ]
  },
  {
   "cell_type": "markdown",
   "id": "57bc46a1",
   "metadata": {},
   "source": [
    "In this project, we will explore genome assembly — the process of determining the order of nucleotides from fragmented reads that are produced by sequencing machines. \n",
    "\n",
    "Genome assembly maps to a very well defined computer science problem, but can get quite complicated, as problems such as full sequence coverage, finding a good length for reads (the $k$ in $k$-mer), and sequencing errors present challenges for sequencing analysis and accuracy. For the required problems (ones everyone is expected to solve), you will be able to assume perfect coverage and no read errors; for the \"challenge\" problem (that is considered a bonus, and not something we expect everyone to be able to solve, and perhaps may not even be feasible for anyone to solve) you will not be able to rely on such assumptions."
   ]
  },
  {
   "cell_type": "markdown",
   "id": "b701651a",
   "metadata": {},
   "source": [
    " <div class=\"alert alert-block alert-warning\">\n",
    "    \n",
    "<b>Submission</b>: You should work on this assignment by forking the provided Project 1 repository (you probably already did this, following the instructions posted at [https://computingbiology.github.io/project1](https://computingbiology.github.io/project1). Add the other teammate to as a collaborator with write access (also under the Settings tab) to this repository.\n",
    "    \n",
    "You should answer the questions and write your code in this Jupyter Notebook. (We don't expect you to need to use any external files or organize your code outside of the notebook, but if you do, make sure to put everything needed to run your code in your repository.) Parts where you are expected to provide and answer (which could be text that can be written in markdown format in the notebook or Python code that runs in the notebook) are marked in green.\n",
    "        \n",
    "When you are ready to submit the assignment, you should create a release of the version you are submitting ([github's directions for how to create a release](https://docs.github.com/en/repositories/releasing-projects-on-github/managing-releases-in-a-repository)) tagged as `submit`. After you've done this, send a message in slack to a channel that includes both team members (so the one sending this message should include the other team member) and all of the course staff (`dave`, `Hyun Jae Cho`, and `Anshuman Suri`) and a link to your repository (feel free to add any other useful comments if you want, but the link to your submission repository is sufficient)."
   ]
  },
  {
   "cell_type": "markdown",
   "id": "6ddc5cc5",
   "metadata": {},
   "source": [
    "## Getting Started"
   ]
  },
  {
   "cell_type": "markdown",
   "id": "65e42801",
   "metadata": {},
   "source": [
    "1. Install basic required packages, should be run only once. You may need to restart the jupyter python kernel (under the Kernel menu) after this. (You can execute this directly in the notebook but running the command below.)"
   ]
  },
  {
   "cell_type": "code",
   "execution_count": 1,
   "id": "9df18fe5",
   "metadata": {},
   "outputs": [
    {
     "name": "stdout",
     "output_type": "stream",
     "text": [
      "Requirement already satisfied: gvmagic in /Library/Frameworks/Python.framework/Versions/3.9/lib/python3.9/site-packages (from -r requirements.txt (line 1)) (0.5)\n",
      "Requirement already satisfied: numpy in /Library/Frameworks/Python.framework/Versions/3.9/lib/python3.9/site-packages (from -r requirements.txt (line 2)) (1.22.1)\n",
      "Requirement already satisfied: matplotlib in /Library/Frameworks/Python.framework/Versions/3.9/lib/python3.9/site-packages (from -r requirements.txt (line 3)) (3.5.1)\n",
      "Requirement already satisfied: pydot in /Library/Frameworks/Python.framework/Versions/3.9/lib/python3.9/site-packages (from -r requirements.txt (line 4)) (1.4.2)\n",
      "Requirement already satisfied: packaging>=20.0 in /Library/Frameworks/Python.framework/Versions/3.9/lib/python3.9/site-packages (from matplotlib->-r requirements.txt (line 3)) (20.9)\n",
      "Requirement already satisfied: cycler>=0.10 in /Users/neilphan/Library/Python/3.9/lib/python/site-packages (from matplotlib->-r requirements.txt (line 3)) (0.10.0)\n",
      "Requirement already satisfied: pyparsing>=2.2.1 in /Users/neilphan/Library/Python/3.9/lib/python/site-packages (from matplotlib->-r requirements.txt (line 3)) (2.4.7)\n",
      "Requirement already satisfied: pillow>=6.2.0 in /Library/Frameworks/Python.framework/Versions/3.9/lib/python3.9/site-packages (from matplotlib->-r requirements.txt (line 3)) (8.3.2)\n",
      "Requirement already satisfied: fonttools>=4.22.0 in /Library/Frameworks/Python.framework/Versions/3.9/lib/python3.9/site-packages (from matplotlib->-r requirements.txt (line 3)) (4.28.5)\n",
      "Requirement already satisfied: kiwisolver>=1.0.1 in /Users/neilphan/Library/Python/3.9/lib/python/site-packages (from matplotlib->-r requirements.txt (line 3)) (1.3.1)\n",
      "Requirement already satisfied: python-dateutil>=2.7 in /Library/Frameworks/Python.framework/Versions/3.9/lib/python3.9/site-packages (from matplotlib->-r requirements.txt (line 3)) (2.8.2)\n",
      "Requirement already satisfied: six in /Library/Frameworks/Python.framework/Versions/3.9/lib/python3.9/site-packages (from cycler>=0.10->matplotlib->-r requirements.txt (line 3)) (1.16.0)\n",
      "\u001b[33mWARNING: You are using pip version 21.3.1; however, version 22.0 is available.\n",
      "You should consider upgrading via the '/Library/Frameworks/Python.framework/Versions/3.9/bin/python3 -m pip install --upgrade pip' command.\u001b[0m\n",
      "Note: you may need to restart the kernel to use updated packages.\n"
     ]
    }
   ],
   "source": [
    "%pip install -r requirements.txt"
   ]
  },
  {
   "cell_type": "markdown",
   "id": "68cf7d92",
   "metadata": {},
   "source": [
    "2. Make sure you have [graphviz](https://graphviz.org/) installed on your system. (On a Mac OS X, `brew install graphviz`. For other platforms, see [_https://graphviz.org/download/_](https://graphviz.org/download/).)"
   ]
  },
  {
   "cell_type": "code",
   "execution_count": 2,
   "id": "d39abe1f",
   "metadata": {},
   "outputs": [],
   "source": [
    "import collections\n",
    "import matplotlib.pyplot as plt\n",
    "\n",
    "import utils"
   ]
  },
  {
   "cell_type": "markdown",
   "id": "5554e2bc",
   "metadata": {},
   "source": [
    "## Part 1: Assembling the TeleTubby Genome"
   ]
  },
  {
   "cell_type": "markdown",
   "id": "7985c6cb",
   "metadata": {},
   "source": [
    "For this part, you're given reads generated while trying to sequence the DNA of a mysterious unknown organism with a _tiny_ genome. Some of the course staff is not sure what a TeleTubby is, but I've been assured that no cute creatures were harmed in producing this data (which was generated synthetically).\n",
    "\n",
    "By answering the following questions, you will learn how to assemble the original genome sequence from sequence reads.\n",
    "\n",
    "Sequencing data is often stored in the FASTQ file format, with is a simple ASCII format that is somewhat human-readable. \n",
    "\n",
    "In _TeleTubby.fastq_ (which is included in the repository you forked), you will find the data that was read from the TeleTubby genome. Each four lines of the file repeat the same pattern. For example,\n",
    "```\n",
    "@TeleTubby Genome: Project 1\n",
    "TAAAATGG\n",
    "+\n",
    "HAICDF5I\n",
    "```\n",
    "The first line contains the metadata that encodes the name of the read, the experiment type, the kind of sequencing machine used, etc. \n",
    "\n",
    "The second line is the sequence of bases that was read. \n",
    "\n",
    "The third line is just a placeholder.\n",
    "\n",
    "The fourth line is a sequence of base qualities that encodes the qualities for the corresponding bases in the sequence line. We will discuss and use this for Problem 2."
   ]
  },
  {
   "cell_type": "markdown",
   "id": "744fd5da",
   "metadata": {},
   "source": [
    "Read in the data from `TeleTubby.fastq`:"
   ]
  },
  {
   "cell_type": "code",
   "execution_count": 8,
   "id": "04406782",
   "metadata": {},
   "outputs": [
    {
     "name": "stdout",
     "output_type": "stream",
     "text": [
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n"
     ]
    }
   ],
   "source": [
    "# Read sequence reads (error-free) from file\n",
    "sequence_reads, qualities = utils.read_fastq('TeleTubby.fastq')\n",
    "print(sequence_reads)"
   ]
  },
  {
   "cell_type": "markdown",
   "id": "69527f9b",
   "metadata": {},
   "source": [
    "### Melting Temperature\n",
    "\n",
    "The GC-content (or the ratio of G and C nucleotides) is related to the melting temperature of a DNA double helix structure. \n",
    "\n",
    "The following equation can be used to estimate the melting temperature (in degrees Celsius) of DNA for a particular sequence:\n",
    "\n",
    "\\begin{equation*}\n",
    "t_m = 64.9+0.41(\\%GC)-\\frac{500}{\\text{length of sequence}}\n",
    "\\end{equation*}\n",
    "\n",
    "As a reference, the human genome is known to have between 35%-60% GC-content. \n",
    "\n",
    "<div class=\"alert alert-success\">\n",
    "\n",
    "**Problem 1.** Calculate the melting temperature for the TeleTubby genome using the formula above. Assume that the sequence is 200 nucleotides long, and that the provided read data has equal coverage everywhere so the G-C distribution in the reads is very close to the actual G-C distribution for the genome. \n",
    "    </div>"
   ]
  },
  {
   "cell_type": "code",
   "execution_count": 17,
   "id": "cd274b8a",
   "metadata": {},
   "outputs": [
    {
     "name": "stdout",
     "output_type": "stream",
     "text": [
      "777\n",
      "767\n",
      "0.5032383419689119\n"
     ]
    }
   ],
   "source": [
    "# Write code here for calculating the %GC content from the sequence_reads, and computing the estimated melting temperature.\n",
    "gc_content = 0\n",
    "at_content = 0\n",
    "for read in sequence_reads:\n",
    "    for n in read:\n",
    "        if (n == \"A\" or n == \"T\"):\n",
    "            at_content += 1\n",
    "        else:\n",
    "            gc_content += 1\n",
    "            \n",
    "print(gc_content)\n",
    "print(at_content) \n",
    "\n",
    "total = gc_content + at_content\n",
    "percent_gc = gc_content / total\n",
    "\n",
    "print(percent_gc)"
   ]
  },
  {
   "cell_type": "code",
   "execution_count": 19,
   "id": "c5cc58d6",
   "metadata": {},
   "outputs": [
    {
     "name": "stdout",
     "output_type": "stream",
     "text": [
      "62.60632772020726\n"
     ]
    }
   ],
   "source": [
    "# Print out temperature in Celsius\n",
    "melting_temp = 64.9 + (0.41 * percent_gc) - (500/200)\n",
    "print(melting_temp)"
   ]
  },
  {
   "cell_type": "markdown",
   "id": "72723374",
   "metadata": {},
   "source": [
    "## Interpreting Read Quality"
   ]
  },
  {
   "cell_type": "markdown",
   "id": "e9a67a93",
   "metadata": {},
   "source": [
    "Phred33 quality scores are represented as the character with an ASCII code equal to its value + 33 (to make them easy to print alongside genome sequences). The Phred scores $Q$ are related to error probabilities $P$ as: $Q = -10 \\log_{10}(P)$. The table linked here provides a mapping from the Phred values provided in a fastq file and the $Q$ values: [Quality Score Encoding](https://support.illumina.com/help/BaseSpace_OLH_009008/Content/Source/Informatics/BS/QualityScoreEncoding_swBS.htm) \n",
    "\n",
    "<div class=\"alert alert-success\">\n",
    "    \n",
    "**Problem 2.** Using the Phred scores, identify the _least likely to be correct_ read in the TeleTubby.fastq data, which is the read with the lowest probability that it contains _no_ errors.\n",
    "\n",
    "</div>"
   ]
  },
  {
   "cell_type": "code",
   "execution_count": 42,
   "id": "76758368",
   "metadata": {},
   "outputs": [
    {
     "name": "stdout",
     "output_type": "stream",
     "text": [
      "[0.9877304953957112, 0.9902916614541589, 0.9864235884954172, 0.9689682654875822, 0.9778720424132729, 0.9828145985418814, 0.9922087473206651, 0.9881493653520372, 0.9866480286903264, 0.9854858848737417, 0.9807395865803988, 0.9798277922285435, 0.9853141554644258, 0.9913436381654677, 0.997858590417232, 0.9761506775731286, 0.97768982143881, 0.9943070330873446, 0.9861349719309656, 0.9947179551658764, 0.979128088718211, 0.9971260362695443, 0.9829831345622508, 0.9853120495146898, 0.9727649277315094, 0.9923097336960476, 0.9936306368433646, 0.9835931455547352, 0.9805686982199487, 0.9931952621521526, 0.9806185709365147, 0.9827572953361275, 0.9914525328441294, 0.9965015998661402, 0.9856703220932722, 0.9802944885392297, 0.9883727411135838, 0.9940043485396715, 0.9914137158098848, 0.9926800349511373, 0.9818666088759418, 0.9919285316171141, 0.9897758756775746, 0.9850240361986479, 0.9924709215773222, 0.9925716363173199, 0.9818309029502782, 0.9831611601274637, 0.9949296266067625, 0.9820629730105, 0.9955249462355888, 0.9854130544335724, 0.9732677713592447, 0.9903288064210719, 0.9677455845987764, 0.9806419192199604, 0.9804687631772978, 0.9961675284715085, 0.9925574405778326, 0.9863804278401204, 0.9785934977301434, 0.9838323039986595, 0.9893158471077229, 0.9916854417900556, 0.9810200164299091, 0.9908113208650898, 0.9903671871395894, 0.991051507060366, 0.9906046178066886, 0.9852962987654614, 0.9903098653669516, 0.9855530403179151, 0.9983298597504531, 0.9854394690138454, 0.9941402937825434, 0.9901860785670202, 0.9888106625519486, 0.9766244325645286, 0.9834490963116571, 0.9775694578929413, 0.9846504180099456, 0.98439777060135, 0.9713959432327646, 0.9964562390461282, 0.9859829693316424, 0.986295785363281, 0.9849833999190477, 0.9726492913831777, 0.9940362946996927, 0.990571077833766, 0.9808516542649706, 0.9928036367198838, 0.989112064597969, 0.9900349529420579, 0.985731902805817, 0.9828239142860624, 0.9951271219379976, 0.9789288580237572, 0.9851598373870073, 0.9904756575989061, 0.9785911535566769, 0.993031905464379, 0.9985261433150519, 0.9859614325013564, 0.9788099868352171, 0.9873513035884588, 0.9972873843261291, 0.9958202803160767, 0.9962434551235827, 0.9794366994351202, 0.9861528013845728, 0.9876331869920391, 0.9977198531257307, 0.9939922993586423, 0.9932331636602109, 0.9876329843124131, 0.9763587338684793, 0.9794070266920484, 0.985645825164141, 0.9899579675402085, 0.9864893568047252, 0.9709919980903612, 0.9933867078095895, 0.9864093250671334, 0.9765156481926911, 0.9914679165315972, 0.9811063086303892, 0.9872135786586042, 0.9730532288075437, 0.9878316487359762, 0.9888610973667483, 0.9791062883932995, 0.9930605902462765, 0.994259317910115, 0.9734475360950872, 0.9982774836876601, 0.9847371366175828, 0.9879026297224551, 0.9875711326628133, 0.9699294135893051, 0.9875630814597179, 0.9893661894601723, 0.990761538208927, 0.9935151845158106, 0.9803863164438306, 0.9903788894588851, 0.9928726028987355, 0.981147542922177, 0.9875290192444571, 0.9771338715578395, 0.9910568605904311, 0.9916928987961171, 0.9802673777271771, 0.9880920291419883, 0.9986928770485035, 0.9882696926898522, 0.9811709568351301, 0.9952361769071102, 0.9884750590251675, 0.9931065793233795, 0.9906215582643181, 0.9797839876980985, 0.9924757684342095, 0.9771692967562541, 0.9957437026616851, 0.9954308433411238, 0.9957075264646283, 0.9791290197435475, 0.971932900713724, 0.9966407716216729, 0.9960400437794041, 0.9894956385207443, 0.9865950882392666, 0.9933158159111772, 0.9836026315517007, 0.984089497292208, 0.9873890489382647, 0.9798571128792815, 0.9793109251443185, 0.9796631618525901, 0.9814287736903626, 0.9847261425789442, 0.993648164548957, 0.9877558496408976, 0.9859262881214717, 0.9909921825368843, 0.9877016522400553, 0.9913982417311262, 0.9949817886722182, 0.9836312176145425, 0.9937746802053737, 0.9812513166192307, 0.9785444963099145]\n",
      "855?M7ME\n"
     ]
    }
   ],
   "source": [
    "# Write your code for Problem 2 here. \n",
    "# It should output the read (nucleotide sequence) with the lowest probability of containing no errors.\n",
    "\n",
    "prob_list = []\n",
    "# Compute the probability of no errors for each read\n",
    "for read in qualities:\n",
    "    prob = 1\n",
    "    for n in read:\n",
    "        q = ord(n) - 33\n",
    "        p = 10 ** (-(q)/10)\n",
    "        prob *= (1-p) # Probability of NO error\n",
    "    prob_list.append(prob)\n",
    "print(prob_list)\n",
    "\n",
    "# Find the idx of the lowest probability\n",
    "min = 1\n",
    "min_idx = 0\n",
    "counter = 0\n",
    "for prob in prob_list:\n",
    "    if (prob < min):\n",
    "        min = prob\n",
    "        min_idx = counter\n",
    "    counter += 1\n",
    "# Print out the quality read of the lowest pr\n",
    "print(qualities[min_idx])"
   ]
  },
  {
   "cell_type": "markdown",
   "id": "9d9abeb9",
   "metadata": {},
   "source": [
    "Note: For the following problems, you can ignore the read quality scores, and safely assume there are no actual errors in the provided TeleTubby reads."
   ]
  },
  {
   "cell_type": "markdown",
   "id": "8e55395f",
   "metadata": {},
   "source": [
    "## Frequency analysis\n",
    "\n",
    "Looking at repetitions in the sequence can be helpful in estimating the \"redudancy\" in the organisms. Eucaryote genomes have a lot of redundancy, while smaller organisms like bacteria have highly packed genomes. One heuristic to estimate this before actually performing the assembly could be looking at how often certain $k$-mers are repeated.\n",
    "\n",
    "<div class=\"alert alert-success\">\n",
    "    \n",
    "**Problem 3.**\n",
    "    Print out the 3 most frequent <em>k</em>-mers in the TeleTubby reads with their frequencies. (As in Problem 1, doing this from the reads only produces the same result as from the genome if the read coverage is equal everywhere, but it should be a close estimate.)\n",
    "</div>"
   ]
  },
  {
   "cell_type": "code",
   "execution_count": null,
   "id": "bdbd6bc8",
   "metadata": {},
   "outputs": [],
   "source": [
    "# Your code here"
   ]
  },
  {
   "cell_type": "markdown",
   "id": "728a612b",
   "metadata": {},
   "source": [
    "## Greedy Assembly"
   ]
  },
  {
   "cell_type": "markdown",
   "id": "36c041ab",
   "metadata": {},
   "source": [
    "Given a set of sequence fragments, the objective of assembly can be viewed as finding the shortest sequence that contains all the fragments.\n",
    "\n",
    "One of the approaches to assemble the genome from the given reads is a greedy algorithm:\n",
    "\n",
    "```\n",
    "while (len(fragments) > 1):\n",
    "   calculate pairwise alignments of all pairs of fragments\n",
    "   merge the two fragments with the largest overlap\n",
    "genome = fragment[0] # the single remaining fragment is the genome\n",
    "```\n"
   ]
  },
  {
   "cell_type": "markdown",
   "id": "35f6e176",
   "metadata": {},
   "source": [
    "<div class=\"alert alert-success\">\n",
    "    \n",
    "**Problem 4 (a)**. What would the runtime be of this algorithm, given $n$ $k$-mer reads? (If you are not sure how to express your answer to this question, review [_Cost of Computation_](https://computingbiology.github.io/complexity/).)\n",
    "    </div>"
   ]
  },
  {
   "cell_type": "markdown",
   "id": "93985b9f",
   "metadata": {},
   "source": [
    "<i>Answer</i>:"
   ]
  },
  {
   "cell_type": "markdown",
   "id": "6d868a87",
   "metadata": {},
   "source": [
    "<div class=\"alert alert-success\">\n",
    "\n",
    "**Problem 4 (b)**. Is this algorithm guaranteed to find the correct genome? (A good answer will define what _correct_ means here, and explain why the algorithm is or is not guaranteed to find it.)"
   ]
  },
  {
   "cell_type": "markdown",
   "id": "12bfc75b",
   "metadata": {},
   "source": [
    "<i>Answer</i>:"
   ]
  },
  {
   "cell_type": "markdown",
   "id": "44685e7e",
   "metadata": {},
   "source": [
    "## Graph-based Assembly"
   ]
  },
  {
   "cell_type": "markdown",
   "id": "c9d33cc7",
   "metadata": {},
   "source": [
    "Graphs for genome assembly can be constructed in two ways:\n",
    "\n",
    "- de Bruijn graph: Processing $k-$mers as nodes, with $(k-1)-$mers as edges, and\n",
    "- Overlap graph: Processing $k-$mers as edges, with $(k-1)-$mers as nodes.\n",
    "\n",
    "A de Bruijn graph can be processed to find Euler paths, while Overlap graphs can be processed to find Hamiltonian paths. Both of these methods can be used reconstruct the original genome.\n",
    "\n",
    "<div class=\"alert alert-success\">\n",
    "    \n",
    "**Problem 5.**  Use one of these two techniques to reconstruct the TeleTubby genome from the provided sequence reads. \n",
    "    \n",
    "</div>\n",
    "    \n",
    "We have provided some template code below that may be helpful (but feel free to ignore this is you prefer)."
   ]
  },
  {
   "cell_type": "code",
   "execution_count": null,
   "id": "c50bc332",
   "metadata": {},
   "outputs": [],
   "source": [
    "# Read reads into graph\n",
    "\n",
    "def build_graph(k_mers):\n",
    "    edges = []\n",
    "    nodes = set()\n",
    "    # Your code here\n",
    "    return nodes, edges"
   ]
  },
  {
   "cell_type": "code",
   "execution_count": null,
   "id": "f60e36d1",
   "metadata": {},
   "outputs": [],
   "source": [
    "nodes, edges = build_graph(sequence_reads)"
   ]
  },
  {
   "cell_type": "code",
   "execution_count": null,
   "id": "93131d20",
   "metadata": {},
   "outputs": [],
   "source": [
    "# Needed to properly visualize graphs\n",
    "%load_ext gvmagic"
   ]
  },
  {
   "cell_type": "code",
   "execution_count": null,
   "id": "a238b91e",
   "metadata": {},
   "outputs": [],
   "source": [
    "# Helper function to visualize graphs\n",
    "%dotstr utils.viz_graph(nodes, edges)"
   ]
  },
  {
   "cell_type": "code",
   "execution_count": null,
   "id": "3c4f6bfc",
   "metadata": {},
   "outputs": [],
   "source": [
    "# Main assembly algorithm\n",
    "\n",
    "def assemble_sequence(nodes, edges):\n",
    "    assembled_sequence = \"\"\n",
    "    # Your code here\n",
    "    return assembled_sequence"
   ]
  },
  {
   "cell_type": "code",
   "execution_count": null,
   "id": "a5b1b2e3",
   "metadata": {},
   "outputs": [],
   "source": [
    "# Output assembled sequence\n",
    "# Hint: Sequence is 200 nucleotides long\n",
    "\n",
    "assmebled_seq = assemble_sequence(nodes, edges)"
   ]
  },
  {
   "cell_type": "markdown",
   "id": "91454973",
   "metadata": {},
   "source": [
    "<div class=\"alert alert-success\"> \n",
    "    \n",
    "**Problem 6.** Which of the two assembly methods did you use for problem 5, and why? (Hint: consider how the costs scale with the number of reads.)\n",
    "    \n",
    "</div>"
   ]
  },
  {
   "cell_type": "markdown",
   "id": "9c68ae0c",
   "metadata": {},
   "source": [
    "## Part 2: Sequencing SARS-CoV-2 virus"
   ]
  },
  {
   "cell_type": "markdown",
   "id": "bb9104f8",
   "metadata": {},
   "source": [
    "Let's move on from TeleTubbies to real-world organisms. For this problem, you'll assemble a genome for a variant of the SARS-CoV-2 virus. You're given reads from <i>actual</i> genome sequencing runs in the provided `SARS-CoV2.fastq` file. The file is based on the first Covid genome that was submitted on 5 January 2020: [https://www.ncbi.nlm.nih.gov/nuccore/NC_045512](https://www.ncbi.nlm.nih.gov/nuccore/NC_045512) But, you should be reconstructing a sequence from the provided reads without looking at the source sequence.\n",
    "\n",
    "<div class=\"alert alert-success\">\n",
    "    \n",
    "**Problem 7.**  Reconstruct the SATS-CoV2 genome from the provided sequence reads using $k=25$. \n",
    "    \n",
    "</div>\n",
    "\n",
    "You can re-use your implementation from Problem 5 and simply run it on the new data (depending on what you did for Problem 5, that might be enough to solve this problem). \n",
    "\n",
    "Print out your reconstructed sequence to a file `output.txt` (and add this file to the repo you submit). For this part, we will still assume that all the reads are error-free. "
   ]
  },
  {
   "cell_type": "code",
   "execution_count": null,
   "id": "490daca9",
   "metadata": {},
   "outputs": [],
   "source": [
    "# Read sequence reads\n",
    "sequence_reads_covid, qualities_covid = utils.read_fastq('SARS-CoV2.fastq')"
   ]
  },
  {
   "cell_type": "code",
   "execution_count": null,
   "id": "3dfbe110",
   "metadata": {},
   "outputs": [],
   "source": [
    "# Read reads into graph\n",
    "nodes_covid, edges_covid = build_graph(sequence_reads_covid)"
   ]
  },
  {
   "cell_type": "code",
   "execution_count": null,
   "id": "011414e6",
   "metadata": {},
   "outputs": [],
   "source": [
    "# Call main assembly algorithm\n",
    "assmebled_covid_seq = assemble_sequence(nodes_covid, edges_covid)"
   ]
  },
  {
   "cell_type": "code",
   "execution_count": null,
   "id": "b8818bf5",
   "metadata": {},
   "outputs": [],
   "source": [
    "# Write assembled sequence to file\n",
    "with open(\"output.txt\", \"w\") as f:\n",
    "    f.write(assmebled_covid_seq)"
   ]
  },
  {
   "cell_type": "markdown",
   "id": "a3cc7d97",
   "metadata": {},
   "source": [
    "# Part 3: Error-Aware Assembly (Challenge Problem)"
   ]
  },
  {
   "cell_type": "markdown",
   "id": "9c03fa24",
   "metadata": {},
   "source": [
    "<div class=\"alert alert-warning\">\n",
    "    This problem is a \"Challenge Problem\". This means it is a problem of unknown difficulty that might be quite challenging (unlike the earlier problems, we don't have a reference solution for this one, or a clear idea how hard it might be). We do hope all students will at least attempt this and that more ambitious students will work hard to solve it and learn interesting things by the attempt (whether or not it is successful), but not get frustrated if you can't get to the desired answer.  As a \"Challenge Problem\" it means that you shouldn't be worried if you are not able to solve this, though, and you can get full expected credit on this assignment without answering it.\n",
    "</div>\n",
    "\n",
    "\n",
    "In the parts above, we assumed error-free reads while assembling $k$-mers. As much as we'd like that, actual reads can (and do) have errors, captured by their Phred scores. \n",
    "\n",
    "For this question, you're given raw, actual reads from sequencing runs. Download the reads from this file:\n",
    "https://sra-pub-sars-cov2.s3.amazonaws.com/sra-src/SRR11528307/ABS2-LN-R1_cleaned_paired.fastq.gz.  \n",
    "\n",
    "\n",
    "<div class=\"alert alert-success\">\n",
    "    \n",
    "**Problem 8 (Challenge).** Give the reads in the linked fastq file above, including their Phred33 quality score, assemble the most likely genome. Your solution should output the assembled sequence in `challenge.txt`. Provide a brief explantion of how your algorithm works and interesting things you learned in developing it.\n",
    "    \n",
    "</div>\n",
    "    \n",
    "This is an open-ended question. You are free to use any approach to deal with the issue. Make sure you provide your code, along with any assumptions you may have."
   ]
  },
  {
   "cell_type": "markdown",
   "id": "5d7e82e1",
   "metadata": {},
   "source": [
    "_Write a description of your algorithm, and things you learned from working on this here._"
   ]
  },
  {
   "cell_type": "code",
   "execution_count": null,
   "id": "4594e10b",
   "metadata": {},
   "outputs": [],
   "source": [
    "# implementation "
   ]
  },
  {
   "cell_type": "markdown",
   "id": "89a97c21",
   "metadata": {},
   "source": [
    "   <div class=\"alert alert-block alert-danger\">\n",
    "    <center>\n",
    "        \n",
    " **Remember to follow the submission directions above to submit your assignment by 4:59pm on Tuesday, 8 February.**\n",
    "    \n",
    " </center>\n",
    " </div>"
   ]
  }
 ],
 "metadata": {
  "kernelspec": {
   "display_name": "Python 3",
   "language": "python",
   "name": "python3"
  },
  "language_info": {
   "codemirror_mode": {
    "name": "ipython",
    "version": 3
   },
   "file_extension": ".py",
   "mimetype": "text/x-python",
   "name": "python",
   "nbconvert_exporter": "python",
   "pygments_lexer": "ipython3",
   "version": "3.9.0"
  }
 },
 "nbformat": 4,
 "nbformat_minor": 5
}
